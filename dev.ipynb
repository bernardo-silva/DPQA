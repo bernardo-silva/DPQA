{
 "cells": [
  {
   "cell_type": "code",
   "execution_count": 2,
   "metadata": {},
   "outputs": [],
   "source": [
    "from qiskit import QuantumCircuit\n",
    "from qiskit.converters import circuit_to_dag"
   ]
  },
  {
   "cell_type": "code",
   "execution_count": 3,
   "metadata": {},
   "outputs": [
    {
     "data": {
      "image/png": "[encoded data removed]",
      "text/plain": [
       "<Figure size 287.496x367.889 with 1 Axes>"
      ]
     },
     "execution_count": 3,
     "metadata": {},
     "output_type": "execute_result"
    }
   ],
   "source": [
    "circ = QuantumCircuit(4)\n",
    "\n",
    "# circ.cx(0, 1)\n",
    "# circ.cx(1, 2)\n",
    "circ.cx(0, 1)\n",
    "circ.cx(2, 3)\n",
    "circ.ccx(1, 3, 2)\n",
    "\n",
    "circ.draw(\"mpl\")"
   ]
  },
  {
   "cell_type": "code",
   "execution_count": 4,
   "metadata": {},
   "outputs": [],
   "source": [
    "from dpqa_simple import DPQA_Simple"
   ]
  },
  {
   "cell_type": "code",
   "execution_count": 5,
   "metadata": {},
   "outputs": [
    {
     "name": "stdout",
     "output_type": "stream",
     "text": [
      "optimal solving with 1 step\n",
      "    no solution, step=1 too small\n",
      "    found solution with 3 gates in 2 step\n",
      "runtime 2.8156492710113525\n"
     ]
    },
    {
     "data": {
      "text/plain": [
       "{'name': 'Name',\n",
       " 'layers': [{'qubits': [{'id': 0, 'a': 0, 'x': 3, 'y': 15, 'c': 1, 'r': 0},\n",
       "    {'id': 1, 'a': 1, 'x': 3, 'y': 15, 'c': 1, 'r': 2},\n",
       "    {'id': 2, 'a': 0, 'x': 3, 'y': 14, 'c': 0, 'r': 0},\n",
       "    {'id': 3, 'a': 1, 'x': 3, 'y': 14, 'c': 0, 'r': 1}],\n",
       "   'gates': [{'q0': 0, 'q1': 1}, {'q0': 2, 'q1': 3}]},\n",
       "  {'qubits': [{'id': 0, 'a': 0, 'x': 3, 'y': 15, 'c': 0, 'r': 0},\n",
       "    {'id': 1, 'a': 1, 'x': 3, 'y': 14, 'c': 1, 'r': 2},\n",
       "    {'id': 2, 'a': 0, 'x': 3, 'y': 14, 'c': 0, 'r': 0},\n",
       "    {'id': 3, 'a': 1, 'x': 3, 'y': 14, 'c': 0, 'r': 1}],\n",
       "   'gates': [{'q0': 1, 'q1': 2, 'q2': 3}]}],\n",
       " 'timestamp': '1693992516.610682',\n",
       " 'duration': '2.8156492710113525',\n",
       " 'n_t': 2}"
      ]
     },
     "execution_count": 5,
     "metadata": {},
     "output_type": "execute_result"
    }
   ],
   "source": [
    "dpqa = DPQA_Simple(\"Name\")\n",
    "dpqa.compile(circ)"
   ]
  },
  {
   "cell_type": "code",
   "execution_count": null,
   "metadata": {},
   "outputs": [
    {
     "name": "stdout",
     "output_type": "stream",
     "text": [
      "anx_57 False\n",
      "anx_136 False\n",
      "anx_24 True\n",
      "a_q0_t0 False\n",
      "x_q2_t3 13\n",
      "anx_78 True\n",
      "x_q1_t1 14\n",
      "anx_118 False\n",
      "anx_40 True\n",
      "x_q3_t3 13\n",
      "r_q3_t2 0\n",
      "anx_120 True\n",
      "anx_42 False\n",
      "a_q3_t1 False\n",
      "anx_65 False\n",
      "c_q1_t1 2\n",
      "anx_45 False\n",
      "r_q2_t2 1\n",
      "anx_92 True\n",
      "x_q0_t2 14\n",
      "anx_48 True\n",
      "anx_113 True\n",
      "anx_122 True\n",
      "anx_28 True\n",
      "anx_96 True\n",
      "anx_135 False\n",
      "anx_134 False\n",
      "anx_46 True\n",
      "anx_117 False\n",
      "c_q3_t0 2\n",
      "r_q1_t0 2\n",
      "anx_50 True\n",
      "anx_74 False\n",
      "y_q3_t2 7\n",
      "anx_56 True\n",
      "y_q1_t3 8\n",
      "anx_101 False\n",
      "anx_29 True\n",
      "anx_87 False\n",
      "anx_52 True\n",
      "a_q3_t0 False\n",
      "c_q0_t0 0\n",
      "c_q1_t0 2\n",
      "anx_32 True\n",
      "anx_71 False\n",
      "anx_21 False\n",
      "c_q2_t2 1\n",
      "anx_80 False\n",
      "r_q1_t2 2\n",
      "anx_31 False\n",
      "anx_97 False\n",
      "y_q2_t0 8\n",
      "y_q3_t3 7\n",
      "anx_121 True\n",
      "anx_64 False\n",
      "anx_103 True\n",
      "anx_34 True\n",
      "r_q1_t3 2\n",
      "anx_84 True\n",
      "c_q0_t1 0\n",
      "anx_105 False\n",
      "anx_67 False\n",
      "anx_110 True\n",
      "anx_25 False\n",
      "x_q1_t2 13\n",
      "anx_44 True\n",
      "x_q3_t2 13\n",
      "anx_127 True\n",
      "a_q1_t2 True\n",
      "anx_128 True\n",
      "anx_112 True\n",
      "t_g1 2\n",
      "y_q0_t2 8\n",
      "a_q1_t1 True\n",
      "x_q1_t3 14\n",
      "anx_36 True\n",
      "r_q2_t3 1\n",
      "anx_115 False\n",
      "a_q0_t2 False\n",
      "c_q3_t3 2\n",
      "t_g0 1\n",
      "x_q3_t0 13\n",
      "anx_68 False\n",
      "y_q3_t0 7\n",
      "anx_111 False\n",
      "anx_33 True\n",
      "anx_100 False\n",
      "y_q3_t1 7\n",
      "anx_22 True\n",
      "anx_104 True\n",
      "anx_91 True\n",
      "a_q2_t1 True\n",
      "anx_73 False\n",
      "x_q0_t3 14\n",
      "anx_43 False\n",
      "anx_125 False\n",
      "y_q0_t0 8\n",
      "anx_99 False\n",
      "anx_35 True\n",
      "anx_60 True\n",
      "anx_76 False\n",
      "r_q2_t0 0\n",
      "y_q1_t0 8\n",
      "anx_72 True\n",
      "anx_88 False\n",
      "y_q0_t3 8\n",
      "anx_39 True\n",
      "anx_14 True\n",
      "y_q0_t1 8\n",
      "anx_95 True\n",
      "a_q0_t3 False\n",
      "x_q0_t1 14\n",
      "x_q2_t1 13\n",
      "x_q2_t0 13\n",
      "anx_15 False\n",
      "r_q0_t2 0\n",
      "a_q3_t2 False\n",
      "anx_70 False\n",
      "anx_119 False\n",
      "anx_116 False\n",
      "anx_18 True\n",
      "r_q1_t1 2\n",
      "anx_124 False\n",
      "anx_30 True\n",
      "anx_69 False\n",
      "anx_93 False\n",
      "anx_62 False\n",
      "anx_89 False\n",
      "x_q3_t1 13\n",
      "c_q3_t1 0\n",
      "anx_51 False\n",
      "anx_79 False\n",
      "anx_138 False\n",
      "anx_83 False\n",
      "anx_19 True\n",
      "anx_107 False\n",
      "anx_16 True\n",
      "anx_23 True\n",
      "a_q1_t0 True\n",
      "r_q3_t3 0\n",
      "anx_102 True\n",
      "a_q2_t3 True\n",
      "anx_130 True\n",
      "t_g3 3\n",
      "anx_63 False\n",
      "anx_66 False\n",
      "c_q1_t3 2\n",
      "anx_98 False\n",
      "c_q2_t3 1\n",
      "anx_55 False\n",
      "anx_108 True\n",
      "anx_54 False\n",
      "r_q0_t1 2\n",
      "anx_27 True\n",
      "anx_17 True\n",
      "anx_137 False\n",
      "anx_139 False\n",
      "t_g2 3\n",
      "anx_59 False\n",
      "anx_53 True\n",
      "y_q2_t3 7\n",
      "r_q0_t3 0\n",
      "anx_82 False\n",
      "anx_58 True\n",
      "anx_126 True\n",
      "y_q2_t1 8\n",
      "y_q2_t2 8\n",
      "c_q2_t0 0\n",
      "anx_38 True\n",
      "c_q3_t2 2\n",
      "a_q0_t1 False\n",
      "anx_77 False\n",
      "anx_86 False\n",
      "x_q0_t0 14\n",
      "c_q2_t1 1\n",
      "anx_61 False\n",
      "anx_109 True\n",
      "r_q3_t0 0\n",
      "anx_81 False\n",
      "a_q3_t3 False\n",
      "c_q0_t2 1\n",
      "a_q2_t2 True\n",
      "r_q0_t0 2\n",
      "anx_41 True\n",
      "anx_90 True\n",
      "x_q1_t0 14\n",
      "a_q2_t0 False\n",
      "c_q0_t3 2\n",
      "anx_75 False\n",
      "r_q3_t1 0\n",
      "y_q1_t1 8\n",
      "x_q2_t2 13\n",
      "anx_123 False\n",
      "anx_85 False\n",
      "c_q1_t2 2\n",
      "anx_47 True\n",
      "anx_26 True\n",
      "anx_114 True\n",
      "anx_20 True\n",
      "a_q1_t3 True\n",
      "anx_37 True\n",
      "anx_131 True\n",
      "anx_106 False\n",
      "r_q2_t1 1\n",
      "anx_129 True\n",
      "anx_132 True\n",
      "anx_49 True\n",
      "y_q1_t2 8\n",
      "anx_94 True\n",
      "anx_13 False\n",
      "anx_133 False\n"
     ]
    }
   ],
   "source": [
    "for c in dpqa.dpqa.model():\n",
    "    print(c, dpqa.dpqa.model()[c])"
   ]
  },
  {
   "cell_type": "code",
   "execution_count": null,
   "metadata": {},
   "outputs": [
    {
     "data": {
      "text/plain": [
       "{'name': 'Name',\n",
       " 'layers': [{'qubits': [{'id': 0, 'a': 0, 'x': 14, 'y': 8, 'c': 0, 'r': 2},\n",
       "    {'id': 1, 'a': 1, 'x': 14, 'y': 8, 'c': 2, 'r': 2},\n",
       "    {'id': 2, 'a': 1, 'x': 13, 'y': 8, 'c': 1, 'r': 1},\n",
       "    {'id': 3, 'a': 0, 'x': 13, 'y': 7, 'c': 0, 'r': 0}],\n",
       "   'gates': [{'id': [0, 2], 'q0': 0, 'q1': 1}]},\n",
       "  {'qubits': [{'id': 0, 'a': 0, 'x': 14, 'y': 8, 'c': 1, 'r': 0},\n",
       "    {'id': 1, 'a': 1, 'x': 13, 'y': 8, 'c': 2, 'r': 2},\n",
       "    {'id': 2, 'a': 1, 'x': 13, 'y': 8, 'c': 1, 'r': 1},\n",
       "    {'id': 3, 'a': 0, 'x': 13, 'y': 7, 'c': 2, 'r': 0}],\n",
       "   'gates': [{'id': [1], 'q0': 1, 'q1': 2}]},\n",
       "  {'qubits': [{'id': 0, 'a': 0, 'x': 14, 'y': 8, 'c': 2, 'r': 0},\n",
       "    {'id': 1, 'a': 1, 'x': 14, 'y': 8, 'c': 2, 'r': 2},\n",
       "    {'id': 2, 'a': 1, 'x': 13, 'y': 7, 'c': 1, 'r': 1},\n",
       "    {'id': 3, 'a': 0, 'x': 13, 'y': 7, 'c': 2, 'r': 0}],\n",
       "   'gates': [{'id': [0, 2], 'q0': 0, 'q1': 1},\n",
       "    {'id': [3], 'q0': 2, 'q1': 3}]}],\n",
       " 'timestamp': '1690830920.9853063',\n",
       " 'duration': '42.128520488739014',\n",
       " 'n_t': 3}"
      ]
     },
     "execution_count": 6,
     "metadata": {},
     "output_type": "execute_result"
    }
   ],
   "source": [
    "dpqa.result_json"
   ]
  },
  {
   "cell_type": "code",
   "execution_count": null,
   "metadata": {},
   "outputs": [],
   "source": [
    "with open(\"model.txt\", \"w\") as file:\n",
    "    for const in dpqa.dpqa.assertions():\n",
    "        file.write(f\"{const}\\n\")"
   ]
  },
  {
   "cell_type": "code",
   "execution_count": null,
   "metadata": {},
   "outputs": [],
   "source": [
    "from z3 import Optimize, Sum"
   ]
  },
  {
   "cell_type": "code",
   "execution_count": null,
   "metadata": {},
   "outputs": [],
   "source": [
    "opt = Optimize()"
   ]
  },
  {
   "cell_type": "code",
   "execution_count": null,
   "metadata": {},
   "outputs": [],
   "source": [
    "for const in dpqa.dpqa.assertions():\n",
    "    opt.add(const)"
   ]
  },
  {
   "cell_type": "code",
   "execution_count": null,
   "metadata": {},
   "outputs": [
    {
     "ename": "AttributeError",
     "evalue": "'str' object has no attribute 'as_ast'",
     "output_type": "error",
     "traceback": [
      "\u001b[0;31m---------------------------------------------------------------------------\u001b[0m",
      "\u001b[0;31mAttributeError\u001b[0m                            Traceback (most recent call last)",
      "Cell \u001b[0;32mIn[11], line 1\u001b[0m\n\u001b[0;32m----> 1\u001b[0m opt\u001b[39m.\u001b[39;49mminimize(\u001b[39m\"\u001b[39;49m\u001b[39mx_q0_0\u001b[39;49m\u001b[39m\"\u001b[39;49m)\n",
      "File \u001b[0;32m~/.pyenv/versions/thesis/lib/python3.10/site-packages/z3/z3.py:7976\u001b[0m, in \u001b[0;36mOptimize.minimize\u001b[0;34m(self, arg)\u001b[0m\n\u001b[1;32m   7972\u001b[0m \u001b[39mdef\u001b[39;00m \u001b[39mminimize\u001b[39m(\u001b[39mself\u001b[39m, arg):\n\u001b[1;32m   7973\u001b[0m \u001b[39m    \u001b[39m\u001b[39m\"\"\"Add objective function to minimize.\"\"\"\u001b[39;00m\n\u001b[1;32m   7974\u001b[0m     \u001b[39mreturn\u001b[39;00m OptimizeObjective(\n\u001b[1;32m   7975\u001b[0m         \u001b[39mself\u001b[39m,\n\u001b[0;32m-> 7976\u001b[0m         Z3_optimize_minimize(\u001b[39mself\u001b[39m\u001b[39m.\u001b[39mctx\u001b[39m.\u001b[39mref(), \u001b[39mself\u001b[39m\u001b[39m.\u001b[39moptimize, arg\u001b[39m.\u001b[39;49mas_ast()),\n\u001b[1;32m   7977\u001b[0m         is_max\u001b[39m=\u001b[39m\u001b[39mFalse\u001b[39;00m,\n\u001b[1;32m   7978\u001b[0m     )\n",
      "\u001b[0;31mAttributeError\u001b[0m: 'str' object has no attribute 'as_ast'"
     ]
    }
   ],
   "source": [
    "opt.minimize(\"x_q0_0\")"
   ]
  }
 ],
 "metadata": {
  "kernelspec": {
   "display_name": "thesis",
   "language": "python",
   "name": "python3"
  },
  "language_info": {
   "codemirror_mode": {
    "name": "ipython",
    "version": 3
   },
   "file_extension": ".py",
   "mimetype": "text/x-python",
   "name": "python",
   "nbconvert_exporter": "python",
   "pygments_lexer": "ipython3",
   "version": "3.10.12"
  },
  "orig_nbformat": 4
 },
 "nbformat": 4,
 "nbformat_minor": 2
}
